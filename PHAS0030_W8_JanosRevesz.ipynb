{
 "cells": [
  {
   "cell_type": "markdown",
   "metadata": {},
   "source": [
    "# Ising model using Monte Carlo simulation\n",
    "\n",
    "### Janos Revesz\n",
    "### SN: 19111202\n",
    "\n",
    "## Introduction\n",
    "In the following notebook I will be using the Ising model from statistical physics to model ferromagnetism. The model is made up of a square lattice with each lattice point containing one spin. The spin is either in the +1/2 or -1/2 position and each spin interacts with it's neighbours, being in a lower energy state when the neighboring spins align.\n",
    "\n",
    "## Physics\n",
    "The energy of the lattice is the sum of the lattice points interacting with each other and a possible external magnetic field interacting with the spins. \n",
    "\n",
    "The energy due to the spins interacting with each other is due to the quantum mechanical exchange coupling between them:\n",
    "   $$E_J = -J s_1 s_2$$\n",
    "  where $s_1$ is the first particle's spin, $s_2$ is the second particle's spin and $ J $ is the quantum mechanical exchange coupling between the spins. Depending on $ J $ the interaction is called ferromagnetism, antiferromagnetism or noninteracting.  \n",
    "    \n",
    "  $J>0$ - ferrormagnetic  \n",
    "  $J<0$ - antiferromagnetic  \n",
    "  $J=0$ - noninteracting   \n",
    "    \n",
    "  When $J>0$ , $ E_j $ is minimised when $s_1$ and $s_2$ have the same sign\n",
    "  which means that the neighboring spins line up for a lower energy state .  \n",
    "  When $J<0,E_j $ is minimised when $s_1$ and $s_2$ have the opposite sign so the neighboring spins will be in opposite alignment for the lower energy state.\n",
    "  \n",
    "   The energy for the spins interacting with the outside magnetic field is given by:\n",
    "  $$E_B = -B m s$$\n",
    "  \n",
    " For one particle with spin $ s_1 $ and neighboring spins $ s_2, s_3, s_4, s_5$ the total energy is given by:\n",
    " $$ E_{tot} = -J s_1 (s_2+s_3+s_4+s_5) - Bms_1 $$\n",
    " \n",
    " so for the entire lattice the energy is\n",
    " $$E_{tot} = -J \\sum_{i,j} s_i s_j - B m \\sum_i s_i$$\n",
    " where i and j are indexes of lattice sites.\n",
    " \n",
    " ## Monte Carlo method application to minimise E\n",
    "   We will be using a Monte Carlo simulation method to minimise the lattice's energy, so find it's equillibrium state for given $J$ and $B$. The method is the following:\n",
    "   * choose two lattice sites and change their spin alignments\n",
    "   * if the change in energy of the total system is negative, keep the new alignments and repeat the process\n",
    "   * if the change in energy is larger than 0 we use the function $p= exp( {-\\Delta E/k_b T})$ to determine whether the spins stay in their new elignment or not, this is to allow the system to escape local minimums"
   ]
  },
  {
   "cell_type": "code",
   "execution_count": null,
   "metadata": {},
   "outputs": [],
   "source": [
    "# Appropriate imports\n",
    "%matplotlib inline\n",
    "import numpy as np\n",
    "import matplotlib.pyplot as plt"
   ]
  },
  {
   "cell_type": "markdown",
   "metadata": {},
   "source": [
    "### 1. Set up the initial arrangements of spins"
   ]
  },
  {
   "cell_type": "code",
   "execution_count": null,
   "metadata": {},
   "outputs": [],
   "source": [
    "# the number of lattice sites is given by boxlen*boxlen\n",
    "boxlen = 50\n",
    "B_over_kT = 0\n",
    "J_over_kT = 0.5\n",
    "# initialize the spin array\n",
    "spins = (-1)**np.random.randint(0,2,size=(boxlen,boxlen))\n",
    "plt.imshow(spins)\n",
    "plt.title(\"Spin alignment of a 50x50 grid\")\n",
    "plt.colorbar(label=\"Spin\")\n",
    "plt.show()"
   ]
  },
  {
   "cell_type": "markdown",
   "metadata": {},
   "source": [
    "### 2. Calculate the energy\n",
    "Calculate the enrgy for the whole lattice using  $$E_{tot} = -J \\sum_{i,j} s_i s_j - B m \\sum_i s_i$$"
   ]
  },
  {
   "cell_type": "code",
   "execution_count": null,
   "metadata": {},
   "outputs": [],
   "source": [
    "sum_neigh_spins = np.roll(spins,1,axis=0)+np.roll(spins,-1,axis=0)\\\n",
    "            +np.roll(spins,1,axis=1)+np.roll(spins,-1,axis=-1)\n",
    "etot = -np.sum(spins*(B_over_kT + J_over_kT*sum_neigh_spins))\n",
    "print(\"Starting energy is \",etot)"
   ]
  },
  {
   "cell_type": "markdown",
   "metadata": {},
   "source": [
    "### 3. Write the swap function\n",
    "\n",
    "The change in energy when swapping the spins of two lattice points is given by calculating the energy change of the spin due to the magnetic fild and the energy change due to the coupling of the spin and it's neighbours.  \n",
    "The energy of the lattice site before the spin change is $E_{totI} $ where $s_{1i}$ is the initial spin of the site and $s_2+s_3+s_4+s_5$ are the spins of the neighbouring lattice sites. \n",
    "$$ E_{totI} = -J s_{1i} (s_2+s_3+s_4+s_5) - Bms_{1i} $$  \n",
    "The energy of the lattice site after the spin change is $E_{totF} $ where $s_{1f}$ is the spin of the site after the change.  \n",
    "  \n",
    "$$ E_{totF} = -J s_{f1} (s_2+s_3+s_4+s_5) - Bms_{f1} $$\n",
    "\n",
    "$$ \\Delta E = E_{totF}-E_{totI} $$ and $$s_{1f} = -s_{1i}$$\n",
    "  \n",
    "$$\\Delta E = \\left(-J s_{f1} (s_2+s_3+s_4+s_5) - Bms_{f1}\\right)-\\left(-J s_{1i} (s_2+s_3+s_4+s_5) - Bms_{1i}\\right) $$\n",
    "$$\\Delta E = \\left(J s_{i1} (s_2+s_3+s_4+s_5) + Bms_{i1}\\right)+\\left(J s_{1i} (s_2+s_3+s_4+s_5) + Bms_{1i}\\right) $$\n",
    "  \n",
    "$$\\Delta E = 2s_{i1} \\left(J (s_2+s_3+s_4+s_5) + Bm\\right)$$\n",
    "If we include a second spin $z$ with the same subscripts: \n",
    "\n",
    "$$\\Delta E = 2s_{i1} \\left(J (s_2+s_3+s_4+s_5) + Bm\\right)+ 2z_{i1} \\left(J (z_2+z_3+z_4+z_5) + Bm\\right)$$\n",
    "  \n",
    "Note that when the these two lattice sites are neighbouring the energy change due to the two sites coupling is accounted for twice so that has to be extracted once."
   ]
  },
  {
   "cell_type": "code",
   "execution_count": null,
   "metadata": {},
   "outputs": [],
   "source": [
    "def update_swap(i1,j1,i2,j2):\n",
    "    \"\"\"The function receives the coordinates of two lattice sites and changes\n",
    "    their alignments, if the total energy of the system gets lower doing this\n",
    "    the spins remain in their new alignment. If the energy increases the probability\n",
    "    of the spins remaining in their new position is given by p = exp(-deltaE/(k_b T))\n",
    "    \n",
    "    Inputs\n",
    "    \n",
    "    i1: i coordinate of first lattice point\n",
    "    j1: j coordinate of first lattice point\n",
    "    i2: i coordinate of second lattice point\n",
    "    j2: j coordinate of second lattice point\n",
    "    \n",
    "    return: the change of the total energy of the lattice\n",
    "    \"\"\"\n",
    "    # Accounting for the periodic boundary conditions with %boxlen\n",
    "    i1m1 = (i1-1)%boxlen # i coordinate -1\n",
    "    i1p1 = (i1+1)%boxlen # i coordinate +1\n",
    "    j1m1 = (j1-1)%boxlen # j coordinate -1\n",
    "    j1p1 = (j1+1)%boxlen # j coordinate +1\n",
    "    sum_neigh_spins1 = spins[i1m1,j1] + spins[i1p1,j1] + spins[i1,j1m1] + spins[i1, j1p1]\n",
    "    i2m1 = (i2-1)%boxlen #...\n",
    "    i2p1 = (i2+1)%boxlen\n",
    "    j2m1 = (j2-1)%boxlen\n",
    "    j2p1 = (j2+1)%boxlen\n",
    "    sum_neigh_spins2 = spins[i2m1,j2] + spins[i2p1,j2] + spins[i2,j2m1] + spins[i2, j2p1]\n",
    "    \n",
    "    # Check if the spins are neighbours, if yes only account for the energy change once\n",
    "    if (abs(i1-i2)==0 and abs(j1-j2)==1) or (abs(i1-i2)==1 and abs(j1-j2)==0):\n",
    "        sum_neigh_spins1-=spins[i2,j2]\n",
    "    # Calculate the change in energy and the probability positive deltaE\n",
    "    de = 2*spins[i1,j1]*(J_over_kT*sum_neigh_spins1+ 1/2*B_over_kT)+2*spins[i2,j2]*(J_over_kT*sum_neigh_spins2 + 1/2*B_over_kT)\n",
    "    p = np.exp(-de)\n",
    "    if (de<0) or (np.random.random()<p):\n",
    "        spins[i1,j1] = -spins[i1,j1]\n",
    "        spins[i2,j2] = -spins[i2,j2]\n",
    "    else:\n",
    "        de = 0.0\n",
    "    return de"
   ]
  },
  {
   "cell_type": "markdown",
   "metadata": {},
   "source": [
    "### 4. Run the simulation"
   ]
  },
  {
   "cell_type": "code",
   "execution_count": null,
   "metadata": {},
   "outputs": [],
   "source": [
    "# Number of steps to run the simpulation for\n",
    "Nsteps = 50000\n",
    "etot = np.zeros(Nsteps+1)\n",
    "# Accounting for the exchange interaction between the spins\n",
    "sum_neigh_spins = np.roll(spins,1,axis=0)+np.roll(spins,-1,axis=0)\\\n",
    "                +np.roll(spins,1,axis=1)+np.roll(spins,-1,axis=-1)\n",
    "# Total energy of the lattice at step 0\n",
    "etot[0] = -np.sum(spins*(B_over_kT + J_over_kT*sum_neigh_spins))\n",
    "print(etot[0])\n",
    "figIsing = plt.figure(figsize=(10,6))\n",
    "index = 1\n",
    "for i in range(Nsteps):\n",
    "    # Select two points at random to test\n",
    "    this_i1, this_j1 = (np.random.randint(boxlen), np.random.randint(boxlen))\n",
    "    this_i2, this_j2 = (np.random.randint(boxlen), np.random.randint(boxlen))\n",
    "    \n",
    "    # Calculate the change in E and decide whether the spins remain in their new state or not\n",
    "    de = update_swap(this_i1,this_j1,this_i2,this_j2)\n",
    "    sum_neigh_spins = np.roll(spins,1,axis=0)+np.roll(spins,-1,axis=0)\\\n",
    "                +np.roll(spins,1,axis=1)+np.roll(spins,-1,axis=-1)\n",
    "    etot[i+1] = -np.sum(spins*(B_over_kT + J_over_kT*sum_neigh_spins))\n",
    "    if i%3000==0:\n",
    "        ax = figIsing.add_subplot(3,7,index)\n",
    "        ax.imshow(spins)\n",
    "        title=\"step:\" + str(i)\n",
    "        ax.set_title(title)\n",
    "        index +=1 "
   ]
  },
  {
   "cell_type": "markdown",
   "metadata": {},
   "source": [
    "### 5. Show total energy\n"
   ]
  },
  {
   "cell_type": "code",
   "execution_count": null,
   "metadata": {},
   "outputs": [],
   "source": [
    "plt.plot(etot/(J_over_kT*boxlen**2))\n",
    "plt.title(\"E of the system over time step\")\n",
    "plt.xlabel(\"t\")\n",
    "plt.ylabel(\"E\")\n",
    "plt.show()"
   ]
  },
  {
   "cell_type": "code",
   "execution_count": null,
   "metadata": {},
   "outputs": [],
   "source": [
    "J_over_kT = 1.0\n",
    "# Repeat simulation\n",
    "spins = (-1)**np.random.randint(0,2,size=(boxlen,boxlen))\n",
    "\n",
    "Nsteps = 50000\n",
    "etot = np.zeros(Nsteps+1)\n",
    "sum_neigh_spins = np.roll(spins,1,axis=0)+np.roll(spins,-1,axis=0)\\\n",
    "                +np.roll(spins,1,axis=1)+np.roll(spins,-1,axis=-1)\n",
    "etot[0] = -np.sum(spins*(B_over_kT + J_over_kT*sum_neigh_spins))\n",
    "print(etot[0])\n",
    "figIsing = plt.figure(figsize=(10,6))\n",
    "index = 1\n",
    "for i in range(Nsteps):\n",
    "    # Select two points at random to test\n",
    "    this_i1, this_j1 = (np.random.randint(boxlen), np.random.randint(boxlen))\n",
    "    this_i2, this_j2 = (np.random.randint(boxlen), np.random.randint(boxlen))\n",
    "\n",
    "    de = update_swap(this_i1,this_j1,this_i2,this_j2)\n",
    "    sum_neigh_spins = np.roll(spins,1,axis=0)+np.roll(spins,-1,axis=0)\\\n",
    "                +np.roll(spins,1,axis=1)+np.roll(spins,-1,axis=-1)\n",
    "    etot[i+1] = -np.sum(spins*(B_over_kT + J_over_kT*sum_neigh_spins))\n",
    "    if i%3000==0:\n",
    "        ax = figIsing.add_subplot(3,7,index)\n",
    "        ax.imshow(spins)\n",
    "        title=\"step:\" + str(i)\n",
    "        ax.set_title(title)\n",
    "        index +=1 "
   ]
  },
  {
   "cell_type": "code",
   "execution_count": null,
   "metadata": {},
   "outputs": [],
   "source": [
    "plt.plot(etot/(J_over_kT*boxlen**2))\n",
    "plt.title(\"E of the system over time step\")\n",
    "plt.xlabel(\"t\")\n",
    "plt.ylabel(\"E\")\n",
    "plt.show()"
   ]
  },
  {
   "cell_type": "markdown",
   "metadata": {},
   "source": [
    "## Conclusion\n"
   ]
  },
  {
   "cell_type": "markdown",
   "metadata": {},
   "source": [
    "The energy curve is tending smoother downwards and reaches a smaller minE in the same time steps, and the purple patches are more uniform on the plots. Both of these are due to the exchange interaction between the particle being larger so the neighboring spins get \"more aligned\". Below there is some further investigation into how different values of J and B effect the spin alignment."
   ]
  },
  {
   "cell_type": "markdown",
   "metadata": {},
   "source": [
    "## Including magnetic field in the model\n",
    "When a strong outside magnetic field is included the exchange interaction between the particles gets negligable and all of the spins tend to line up with the strong outside magnetic field.  "
   ]
  },
  {
   "cell_type": "code",
   "execution_count": null,
   "metadata": {},
   "outputs": [],
   "source": [
    "J_over_kT = 1.0\n",
    "B_over_kT = 10\n",
    "# Repeat simulation\n",
    "spins = (-1)**np.random.randint(0,2,size=(boxlen,boxlen))\n",
    "\n",
    "Nsteps = 50000\n",
    "etot = np.zeros(Nsteps+1)\n",
    "sum_neigh_spins = np.roll(spins,1,axis=0)+np.roll(spins,-1,axis=0)\\\n",
    "                +np.roll(spins,1,axis=1)+np.roll(spins,-1,axis=-1)\n",
    "etot[0] = -np.sum(spins*(B_over_kT + J_over_kT*sum_neigh_spins))\n",
    "print(etot[0])\n",
    "figIsing = plt.figure(figsize=(10,6))\n",
    "index = 1\n",
    "for i in range(Nsteps):\n",
    "    # Select two points at random to test\n",
    "    this_i1, this_j1 = (np.random.randint(boxlen), np.random.randint(boxlen))\n",
    "    this_i2, this_j2 = (np.random.randint(boxlen), np.random.randint(boxlen))\n",
    "\n",
    "    de = update_swap(this_i1,this_j1,this_i2,this_j2)\n",
    "    sum_neigh_spins = np.roll(spins,1,axis=0)+np.roll(spins,-1,axis=0)\\\n",
    "                +np.roll(spins,1,axis=1)+np.roll(spins,-1,axis=-1)\n",
    "    etot[i+1] = -np.sum(spins*(B_over_kT + J_over_kT*sum_neigh_spins))\n",
    "    if i%3000==0:\n",
    "        ax = figIsing.add_subplot(3,7,index)\n",
    "        ax.imshow(spins)\n",
    "        title=\"step:\" + str(i)\n",
    "        ax.set_title(title)\n",
    "        index +=1 "
   ]
  },
  {
   "cell_type": "markdown",
   "metadata": {},
   "source": [
    "When J and B are the same, the spins still end up almost uniformly aligning up to 1 as the exchange E is minimised when the spins are aligned,and the E due to the magnetic field is minimised when the spins align with it to s=1."
   ]
  },
  {
   "cell_type": "code",
   "execution_count": null,
   "metadata": {},
   "outputs": [],
   "source": [
    "J_over_kT = 1\n",
    "B_over_kT = 1\n",
    "# Repeat simulation\n",
    "spins = (-1)**np.random.randint(0,2,size=(boxlen,boxlen))\n",
    "\n",
    "Nsteps = 50000\n",
    "etot = np.zeros(Nsteps+1)\n",
    "sum_neigh_spins = np.roll(spins,1,axis=0)+np.roll(spins,-1,axis=0)\\\n",
    "                +np.roll(spins,1,axis=1)+np.roll(spins,-1,axis=-1)\n",
    "etot[0] = -np.sum(spins*(B_over_kT + J_over_kT*sum_neigh_spins))\n",
    "print(etot[0])\n",
    "figIsing = plt.figure(figsize=(10,6))\n",
    "index = 1\n",
    "for i in range(Nsteps):\n",
    "    # Select two points at random to test\n",
    "    this_i1, this_j1 = (np.random.randint(boxlen), np.random.randint(boxlen))\n",
    "    this_i2, this_j2 = (np.random.randint(boxlen), np.random.randint(boxlen))\n",
    "\n",
    "    de = update_swap(this_i1,this_j1,this_i2,this_j2)\n",
    "    sum_neigh_spins = np.roll(spins,1,axis=0)+np.roll(spins,-1,axis=0)\\\n",
    "                +np.roll(spins,1,axis=1)+np.roll(spins,-1,axis=-1)\n",
    "    etot[i+1] = -np.sum(spins*(B_over_kT + J_over_kT*sum_neigh_spins))\n",
    "    if i%3000==0:\n",
    "        ax = figIsing.add_subplot(3,7,index)\n",
    "        ax.imshow(spins)\n",
    "        title=\"step:\" + str(i)\n",
    "        ax.set_title(title)\n",
    "        index +=1 "
   ]
  },
  {
   "cell_type": "markdown",
   "metadata": {},
   "source": [
    " ## $J<0$ - antiferromagnetism"
   ]
  },
  {
   "cell_type": "markdown",
   "metadata": {},
   "source": [
    "When J is negative the spins minimise the energy when they are opposite to each other and even when the magnetic field is forcing the spins to a s=1 state the exchange interaction keeps them oppositely aligned."
   ]
  },
  {
   "cell_type": "code",
   "execution_count": null,
   "metadata": {},
   "outputs": [],
   "source": [
    "J_over_kT = -1\n",
    "B_over_kT = 1\n",
    "# Repeat simulation\n",
    "spins = (-1)**np.random.randint(0,2,size=(boxlen,boxlen))\n",
    "\n",
    "Nsteps = 50000\n",
    "etot = np.zeros(Nsteps+1)\n",
    "sum_neigh_spins = np.roll(spins,1,axis=0)+np.roll(spins,-1,axis=0)\\\n",
    "                +np.roll(spins,1,axis=1)+np.roll(spins,-1,axis=-1)\n",
    "etot[0] = -np.sum(spins*(B_over_kT + J_over_kT*sum_neigh_spins))\n",
    "print(etot[0])\n",
    "figIsing = plt.figure(figsize=(10,6))\n",
    "index = 1\n",
    "for i in range(Nsteps):\n",
    "    # Select two points at random to test\n",
    "    this_i1, this_j1 = (np.random.randint(boxlen), np.random.randint(boxlen))\n",
    "    this_i2, this_j2 = (np.random.randint(boxlen), np.random.randint(boxlen))\n",
    "\n",
    "    de = update_swap(this_i1,this_j1,this_i2,this_j2)\n",
    "    sum_neigh_spins = np.roll(spins,1,axis=0)+np.roll(spins,-1,axis=0)\\\n",
    "                +np.roll(spins,1,axis=1)+np.roll(spins,-1,axis=-1)\n",
    "    etot[i+1] = -np.sum(spins*(B_over_kT + J_over_kT*sum_neigh_spins))\n",
    "    if i%3000==0:\n",
    "        ax = figIsing.add_subplot(3,7,index)\n",
    "        ax.imshow(spins)\n",
    "        title=\"step:\" + str(i)\n",
    "        ax.set_title(title)\n",
    "        index +=1 "
   ]
  }
 ],
 "metadata": {
  "kernelspec": {
   "display_name": "Python 3",
   "language": "python",
   "name": "python3"
  },
  "language_info": {
   "codemirror_mode": {
    "name": "ipython",
    "version": 3
   },
   "file_extension": ".py",
   "mimetype": "text/x-python",
   "name": "python",
   "nbconvert_exporter": "python",
   "pygments_lexer": "ipython3",
   "version": "3.7.4"
  }
 },
 "nbformat": 4,
 "nbformat_minor": 2
}
