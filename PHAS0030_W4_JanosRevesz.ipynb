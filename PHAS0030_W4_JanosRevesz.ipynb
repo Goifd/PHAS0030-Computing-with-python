{
 "cells": [
  {
   "cell_type": "markdown",
   "metadata": {},
   "source": [
    "# Solving the Schrodinger Equation for a particle in a box for the ground state eigenfunctions using numerical methods\n",
    "\n",
    "## Janos Revesz, SN: 19111202\n",
    "The notebook contains solving the Time Independent Schrödinger Equation of a particle in a box, as a boundary value problem, using numerical methods and comparing these results to the analytical solution. The TISE:\n",
    "$$-\\frac{1}{2} \\frac {d^2}{d x^2} \\psi(x) = E \\psi(x)$$\n",
    "  \n",
    "The units used are atomic units, so $m=\\hbar=1$ where m is the mass of the electron. Bohr radius is used for distances and Hartrees for energies. We only solve for the ground state solution.;"
   ]
  },
  {
   "cell_type": "code",
   "execution_count": null,
   "metadata": {},
   "outputs": [],
   "source": [
    "# Appropriate imports\n",
    "import numpy as np\n",
    "import matplotlib.pyplot as plt\n",
    "from scipy import integrate"
   ]
  },
  {
   "cell_type": "markdown",
   "metadata": {},
   "source": [
    "### 1. \n",
    "Separating the 2nd oreder TISE into two linked 1st order differential equations:\n",
    "$$ \\frac {d^2}{d x^2} \\psi(x) = -2 E \\psi(x) $$\n",
    "   \n",
    "  $$ \\frac {d}{d x} \\psi(x) = \\phi(x)$$ and $$  \\frac {d}{d x} \\phi(x)=-2 E \\psi(x)$$\n",
    "then implementing the right hand sides in the following cell as a function."
   ]
  },
  {
   "cell_type": "code",
   "execution_count": null,
   "metadata": {},
   "outputs": [],
   "source": [
    "def RHS_Schro(y,E):\n",
    "    \"\"\"Implementation of the RHS of the Schrodinger equation\n",
    "    \n",
    "    Input:\n",
    "    y:  input values (two component array), first element is the values for psi\n",
    "    the second element is values for phi\n",
    "    E:  Energy, which can be seen as a constant\n",
    "    Output:\n",
    "    Differentials of psi and phi(two component array)\n",
    "    \"\"\"\n",
    "    # Separate input\n",
    "    psi = y[0]\n",
    "    phi = y[1]\n",
    "    # Calculate differentials\n",
    "    dpsi = phi\n",
    "    dphi = -2*E*psi\n",
    "    return np.array((dpsi,dphi))"
   ]
  },
  {
   "cell_type": "markdown",
   "metadata": {},
   "source": [
    "### 2. Runge-Kutta method implementation for 2nd order ODEs\n",
    "The R-K methods use intermediate gradients to improve accuracy. The fourth order R-K method is accurate up to dx^4 . It evaluates y(x+dx) first the same way as Euler's method then adds three corrections. Two of these corrections are evaluated at mid points and the third at the end-point. Because RK4 is accurate up to dx^4 we can use quite large step sizes to solce ODEs."
   ]
  },
  {
   "cell_type": "code",
   "execution_count": null,
   "metadata": {},
   "outputs": [],
   "source": [
    "def RK4_solver(fun,y0,dx,E,N):\n",
    "    \"\"\"Solve dy/dt = fun(y,t) using fourth-order RK method.\n",
    "    Inputs:\n",
    "    fun  f(y,t)\n",
    "    y0   Initial condition - assumed to be two-component\n",
    "    dx   Spacing in x\n",
    "    E    Parameter to pass to fun\n",
    "    N    Number of steps\n",
    "    Returns: two arrays of length N+1 (x and v or equivalent)\n",
    "    \"\"\"\n",
    "    # Creating arrays for psi and phi gridpoint\n",
    "    psi = np.zeros(N+1)\n",
    "    phi = np.zeros(N+1)\n",
    "    # Initializing first components of arrays using initial conditions\n",
    "    psi[0] = y0[0]\n",
    "    phi[0] = y0[1]\n",
    "    x = 0\n",
    "    y = y0\n",
    "    # Evaluating psi and phi at the gridpoints using the Runge-Kutta method\n",
    "    # up to 4th order\n",
    "    for i in range(N):\n",
    "        k1 = dx*fun(y,E)\n",
    "        k2 = dx*fun(y+0.5*k1,E)\n",
    "        k3 = dx*fun(y+0.5*k2,E)\n",
    "        k4 = dx*fun(y+k3,E)\n",
    "        y=y+(k1+2*k2+2*k3+k4)/6\n",
    "        psi[i+1] = y[0]\n",
    "        phi[i+1] = y[1]\n",
    "    # Return psi and phi evaluated from x to x+N*dx\n",
    "    return psi, phi"
   ]
  },
  {
   "cell_type": "markdown",
   "metadata": {},
   "source": [
    "### 3. Testing the numerical solution for E=1\n",
    "\n",
    "Now testing the RK4 method to find the eigenstates of the particle in a box. We haven't used the second boundary condition psi(1)=0 so the wavefuntion doesn't fo to 0 as x goes to 1."
   ]
  },
  {
   "cell_type": "code",
   "execution_count": null,
   "metadata": {},
   "outputs": [],
   "source": [
    "# Setting up gridpoints for x\n",
    "dx = 0.01\n",
    "total_x = 1.0\n",
    "N = int(total_x/dx)\n",
    "\n",
    "# Choose lower limit\n",
    "E0 = 1.0\n",
    "# Create a two-component array with values at x=0\n",
    "psi0 = np.array([0.0,1.0])\n",
    "\n",
    "# Numerical solution of TISE using RK4\n",
    "psi, phi = RK4_solver(RHS_Schro,psi0,dx,E0,N)\n",
    "# Setting up grid for plotting\n",
    "x = np.linspace(0,total_x,N+1)\n",
    "\n",
    "# Plotting the numerical solution\n",
    "plt.plot(x,psi,label=\"E = 1.0\")\n",
    "plt.xlabel(\"x (Bohr)\",fontsize=15)\n",
    "plt.ylabel(r\"$\\psi(x)$\",fontsize=15)\n",
    "plt.title(\"Numerical solutin for TISE when E=1\")\n",
    "plt.legend()\n",
    "plt.grid()\n",
    "P0 = psi[-1]\n",
    "print(\"The numerical solution at x=1 Bohr is \",P0)"
   ]
  },
  {
   "cell_type": "markdown",
   "metadata": {},
   "source": [
    "### 4. Using the bisection method to find E where $ \\psi(1)=0$\n",
    "Now using the boundary condition psi(1)=0 we find the energy of the ground solution to the TISE. We do this by setting x=1 and evaluating psi(x) for different energies. Using the bisection method we can find the energy for which psi(1) is 0. First I plot psi(1) against E so I can apply the bisection method by setting the upper and lower limit."
   ]
  },
  {
   "cell_type": "code",
   "execution_count": null,
   "metadata": {},
   "outputs": [],
   "source": [
    "# PLOTTING PSI(1) AGAINST E\n",
    "\n",
    "# grid for E from 1 to 11\n",
    "E = np.arange(1,11.01,0.01)\n",
    "\n",
    "# define a function that evaluates psi at x=1 for different energies\n",
    "def get_psi(E):\n",
    "    \"\"\"get_psi returns psi evaluated at x=1 for different energies\n",
    "    \n",
    "    E = the energy where psi(1) is evaluated\n",
    "    \n",
    "    return: psi(1) evaluated at E\n",
    "    \"\"\"\n",
    "    psi, phi = RK4_solver(RHS_Schro,psi0,dx,E,N)\n",
    "    return psi[-1]\n",
    "\n",
    "# creating a grid for the y axes by evaluating psi(1) for 1<=E<=11\n",
    "psi_1 = np.zeros(1001)\n",
    "for i in range(1001):\n",
    "    psi_1[i] = get_psi(E[i])\n",
    "    \n",
    "# Plotting psi(1) for different energies\n",
    "plt.plot(E,psi_1)\n",
    "plt.xlabel(\"E (Hartree)\",fontsize=12)\n",
    "plt.ylabel(r\"$\\psi(1)$\",fontsize=12)\n",
    "plt.title(\"Analytical solution of TISE evaluated at x=1 for 1 < E < 11\")\n",
    "plt.grid()"
   ]
  },
  {
   "cell_type": "code",
   "execution_count": null,
   "metadata": {},
   "outputs": [],
   "source": [
    "# Using the bisection method to find where psi(1) = 0\n",
    "\n",
    "# Setting the tolerance \n",
    "# Note: We need a very low tolerance to have meaningfull error at Q6\n",
    "tol = 1e-10\n",
    "# Lower limit\n",
    "E0 = 1.0\n",
    "P0 = get_psi(E0)\n",
    "# Upper limit\n",
    "E1 = 11.0\n",
    "P1 = get_psi(E1)\n",
    "# Counter\n",
    "n=0\n",
    "# Change the lower or upper limit to the middle point\n",
    "while abs(E0-E1)>tol:\n",
    "    # Bisection\n",
    "    n += 1\n",
    "    E2 = (E0+E1)/2\n",
    "    P2 = get_psi(E2)\n",
    "    # Evaluate psi for Emid\n",
    "    if P2*P1 < 0.0:\n",
    "        E0 = E2\n",
    "        P0 = P2\n",
    "    else:\n",
    "        E1 = E2\n",
    "        P1 = P2\n",
    "\n",
    "print(\"Finished after \",n,\" iterations with root at \",E1, \" value is \",P1)"
   ]
  },
  {
   "cell_type": "markdown",
   "metadata": {},
   "source": [
    "### 5. Normalising and plotting the numerical solution of TISE\n",
    "Now that we have a wave function that behaves as the boundary conditions require we can normalize it. psi^2 is the probabilty density of the particle being at x so integrated form 0 to 1 psi^2 must be zero.\n",
    "$$\\int_{0}^{1} |\\psi(x)|^2 dx = A$$\n",
    "  \n",
    "  the normalized wavefunciton then:\n",
    "  $$\\psi(x)_{norm} = \\frac {1}{\\sqrt{A}} \\psi(x) $$"
   ]
  },
  {
   "cell_type": "code",
   "execution_count": null,
   "metadata": {},
   "outputs": [],
   "source": [
    "# the ground state solution of the wavefunction \n",
    "psi_num, phi = RK4_solver(RHS_Schro,psi0,dx,E1,N)\n",
    "\n",
    "# Potting the normalized and not normalized wave functions\n",
    "x = np.arange(0,total_x+0.01,dx)\n",
    "plt.plot(x,psi_num,label=\"not normalized\")\n",
    "plt.xlabel(\"x (Bohr)\",fontsize=15)\n",
    "plt.ylabel(r\"$\\psi(x)$\",fontsize=15)\n",
    "plt.title(\"Numerical solutin for TISE when E=4.93\")\n",
    "norm = 1/np.sqrt(integrate.simps(psi_num**2,x))\n",
    "print(\"The normalizaton factor is: \",norm)\n",
    "psi_num = psi_num*norm\n",
    "plt.plot(x,psi_num,label=\"normalized\")\n",
    "plt.legend()\n",
    "plt.grid()"
   ]
  },
  {
   "cell_type": "markdown",
   "metadata": {},
   "source": [
    "### 6. Compare to analytic wavefunction\n",
    "The ground state solution of the wave function for a particle in a box is well known. We can implement the analytical solution to find how accurate our numerical solution was.\n",
    "  The analytical solution is:\n",
    "   $$ \\psi(x) = \\frac {1}{\\sqrt{A}} sin(\\pi x) $$\n",
    "     \n",
    "We normalize the analytical solution the same way we normalized the numerical solution."
   ]
  },
  {
   "cell_type": "code",
   "execution_count": null,
   "metadata": {},
   "outputs": [],
   "source": [
    "# Create the analytical wave function\n",
    "k = np.pi\n",
    "psi_ana = np.sin(k*x)\n",
    "# Normalize the analytical wave function\n",
    "norm = 1/np.sqrt(integrate.simps(psi_ana**2,x,0.01))\n",
    "psi_ana = psi_ana*norm\n",
    "\n",
    "# Plotting the difference of the two wave functions\n",
    "plt.plot(x,(psi_ana-psi_num))\n",
    "plt.xlabel(\"x (Bohr)\", fontsize=15)\n",
    "plt.ylabel(r\"|$\\psi_{anal}(x)-\\psi_{num}(x)$|\",fontsize = 13)\n",
    "plt.grid()"
   ]
  },
  {
   "cell_type": "markdown",
   "metadata": {},
   "source": [
    "Comment: to get a meaningful plot for the error the tolerance of the bisection method has to be 1e-10 or lower. That is because the error is on the scale of 1e-10 so any larger tolerance would diguise it."
   ]
  },
  {
   "cell_type": "markdown",
   "metadata": {},
   "source": [
    "Brief conclusions or commentary"
   ]
  },
  {
   "cell_type": "markdown",
   "metadata": {},
   "source": [
    "The numerical solution is accurate up to 1e-10 with appropriately set tolerances for the bisection method. The RK4 method should provide an accuracy for dx=0.01 of dx^4= 1e-8. It seems like the accuracy is larger in practice for our case after normalization. The not normalized wave function is wastly different from the normalized one and the analytical one and this doesn't get better for dx=0.001."
   ]
  },
  {
   "cell_type": "code",
   "execution_count": null,
   "metadata": {},
   "outputs": [],
   "source": []
  }
 ],
 "metadata": {
  "kernelspec": {
   "display_name": "Python 3",
   "language": "python",
   "name": "python3"
  },
  "language_info": {
   "codemirror_mode": {
    "name": "ipython",
    "version": 3
   },
   "file_extension": ".py",
   "mimetype": "text/x-python",
   "name": "python",
   "nbconvert_exporter": "python",
   "pygments_lexer": "ipython3",
   "version": "3.7.4"
  }
 },
 "nbformat": 4,
 "nbformat_minor": 2
}
