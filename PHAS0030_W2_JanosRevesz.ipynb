{
 "cells": [
  {
   "cell_type": "markdown",
   "metadata": {},
   "source": [
    "# Finding the minimum energy of the ground state of the 1D and 2D Quantum Harmonic Oscillator\n",
    "## Janos Revesz, SN: 19111202\n",
    "In the following jupyter notebook I use the bisection method and the scipy optimize function to find the lowest possible energy of the ground state solution for the quantum harmonic oscillator.\n",
    "\n"
   ]
  },
  {
   "cell_type": "markdown",
   "metadata": {},
   "source": [
    "## 1D Quantum Harmonic Oscillator\n",
    "The eigenvalue equation for the TISE:\n",
    "$ H \\Psi = E \\Psi $\n",
    "where $H$ is the Hamiltonian or energy operator.\n",
    "  $$H = - \\frac {1}{2} \\frac {d^2}{d x^2}+\\frac {1}{2} \\omega^2 x^2$$\n",
    "    \n",
    "  Using atomic units $\\hbar = m = 1$ and $\\omega = 1 $\n",
    "the ground state solution of the Quantum Harmonic Oscillator is:\n",
    "$$ \\psi = \\left({\\frac{2\\alpha}{\\pi}}\\right)^{1/4} e^{-\\alpha x^2}$$\n",
    "  \n",
    "\n",
    "  \n",
    "And the energy level belonging to this ground state:\n",
    "$$ E = \\frac{\\alpha}{2}+\\frac{1}{8 \\alpha}$$  \n",
    "  \n",
    "To find the minimum energy differentiate $E(\\alpha)$ and look for when the function $\\frac{dE}{d\\alpha}=0$ using the bisections method.\n",
    "  \n",
    "$$ \\frac{dE}{d\\alpha}=\\frac{1}{2} -\\frac{1}{8} \\alpha^{-2}$$"
   ]
  },
  {
   "cell_type": "code",
   "execution_count": 1,
   "metadata": {},
   "outputs": [],
   "source": [
    "import numpy as np\n",
    "import matplotlib.pyplot as plt\n",
    "from scipy import optimize  "
   ]
  },
  {
   "cell_type": "code",
   "execution_count": 2,
   "metadata": {},
   "outputs": [],
   "source": [
    "# implementing the bisection method\n",
    "def bisection(fun,a,b,tol):\n",
    "    \"\"\"The bisection method finds the root of a function given the upper and lower bounds of an interval\n",
    "    where we know a root lies.\n",
    "    fun: the function which root we are looking for\n",
    "    a: upper bound of the interval\n",
    "    b: lower bound of the interval\n",
    "    tol: how accurately the function needs to determine the root\"\"\"\n",
    "    \n",
    "    # Evaluate f(a) and f(b) the function values at the upper and lower brackets\n",
    "    f_a = fun(a)\n",
    "    f_b = fun(b)\n",
    "    # Start the counter so the loop can't turn into a infinite loop\n",
    "    counter = 0\n",
    "    # If the interval get's smallet than the tolerance the function has found the root\n",
    "    while abs(b-a)>tol:\n",
    "        c = (a+b)/2\n",
    "        f_c = fun(c)\n",
    "        # Change the value of the upper or lower bracket to the midpoint\n",
    "        if f_c*f_a>0: \n",
    "            a = c\n",
    "            f_a = f_c\n",
    "        else:\n",
    "            b = c\n",
    "            f_b = f_c\n",
    "        # break if the counter equal a certain value\n",
    "        if counter==40:\n",
    "            break\n",
    "        counter += 1\n",
    "    print(\"Number of iterations: \",counter,\" root: \",c)\n",
    "    # return the number of iteration and the root\n",
    "    return (counter,c)"
   ]
  },
  {
   "cell_type": "code",
   "execution_count": 3,
   "metadata": {},
   "outputs": [],
   "source": [
    "def QHO_E(alpha):\n",
    "    \"\"\"This function calculates the energy of the 1D quantum harmonic oscillators ground state\n",
    "    given the parameter alpha\n",
    "    alpha: the parameter that determines the energy\n",
    "    \"\"\"\n",
    "    E = alpha/2 + 1/(8*alpha)\n",
    "    return E"
   ]
  },
  {
   "cell_type": "code",
   "execution_count": 4,
   "metadata": {},
   "outputs": [],
   "source": [
    "def QHO_grad(alpha):\n",
    "    \"\"\"This funciton calculates the gradient of the energy of the 1D quantum harmonic oscillator's ground state\n",
    "    with regard to the parameter alpha\n",
    "    alpha: the parameter that determines the gradient of the energy\n",
    "    \"\"\"\n",
    "    gradE = 1/2-1/8*alpha**(-2)\n",
    "    return gradE"
   ]
  },
  {
   "cell_type": "code",
   "execution_count": 5,
   "metadata": {},
   "outputs": [
    {
     "name": "stdout",
     "output_type": "stream",
     "text": [
      "Number of iterations:  40  root:  0.4999999999999091\n",
      "Value is:  0.5\n"
     ]
    },
    {
     "data": {
      "image/png": "[encoded data removed]",
      "text/plain": [
       "<Figure size 1008x360 with 2 Axes>"
      ]
     },
     "metadata": {
      "needs_background": "light"
     },
     "output_type": "display_data"
    }
   ],
   "source": [
    "# Plotting\n",
    "alpha = np.linspace(-2.5,2.5,10000)\n",
    "alpha[5000]=np.nan\n",
    "fig = plt.figure(figsize = (14,5))\n",
    "# Plot the energy and alpha\n",
    "ax1 = fig.add_subplot(1,2,1)\n",
    "ax1.plot(alpha,QHO_E(alpha)) \n",
    "ax1.set_xlabel(r\"$\\alpha$\")\n",
    "ax1.set_ylabel('E')\n",
    "ax1.set_ylim(-10,10)\n",
    "ax1.set_xlim(0,2.5)\n",
    "ax1.set_title(\"E - alpha to help find the right upper and lower limits\")\n",
    "# Plot the gradient of the energy and alpha\n",
    "ax2 = fig.add_subplot(1,2,2)\n",
    "ax2.plot(alpha,QHO_grad(alpha))\n",
    "ax2.set_xlabel(r\"$\\alpha$\")\n",
    "ax2.set_ylabel(r\"$\\frac{dE}{d\\alpha}$\")\n",
    "ax2.set_ylim(-100,100)\n",
    "ax2.set_xlim(-0,2.5)\n",
    "ax2.set_title(r\"$\\frac{dE}{d\\alpha}$ against $\\alpha$\")\n",
    "\n",
    "# Use the bisection function to find where the gradient of the energy equals 0\n",
    "n, alpha = bisection(QHO_grad,0.1,1,1e-12)\n",
    "print(\"Value is: \",QHO_E(alpha))"
   ]
  },
  {
   "cell_type": "markdown",
   "metadata": {},
   "source": [
    "## 2D Quantum Harmonic Oscillator\n",
    "For the 2D Quantum Harmonic Oscillator the energy level belonging to the ground state is:\n",
    "  \n",
    "$$ E = \\frac{\\alpha}{2}+\\frac{1}{8 \\alpha}+\\frac{\\beta}{2}+\\frac{1}{8 \\beta}$$  \n",
    "and it's partial derivatives are: \n",
    "  \n",
    "$$ \\frac{\\partial E}{\\partial \\alpha}=\\frac{1}{2} -\\frac{1}{8} \\alpha^{-2}$$\n",
    "  \n",
    "$$ \\frac{\\partial E}{\\partial \\beta}=\\frac{1}{2} -\\frac{1}{8} \\beta^{-2}$$\n",
    "In the following code the minimum value of the ground state energy level is calculated."
   ]
  },
  {
   "cell_type": "code",
   "execution_count": 6,
   "metadata": {},
   "outputs": [],
   "source": [
    "def QHO_2D_grad(param):\n",
    "    \"\"\" The function calculates the gradient of the energy of the 2D quantim harmonic oscillator's ground state\n",
    "    given the parameters alpha and beta\n",
    "    \"\"\"\n",
    "    alpha = param[0]\n",
    "    beta = param[1]\n",
    "    # partial derivative of the energy with respect to alpha\n",
    "    dE_dalpha = 1/2-1/8*(alpha**(-2))\n",
    "    # partial derivative of the energy with respect to beta\n",
    "    dE_dbeta = 1/2-1/8*(beta**(-2))\n",
    "    # return the two partial derivatives calculated in an array\n",
    "    return np.array([dE_dalpha, dE_dbeta]) "
   ]
  },
  {
   "cell_type": "code",
   "execution_count": 18,
   "metadata": {},
   "outputs": [],
   "source": [
    "def QHO_2D_E(param):\n",
    "        \"\"\"This function calculates the energy of the 2D quantum harmonic oscillator's ground state\n",
    "    given the parameters alpha and beta\n",
    "    param: the parameters alpha and beta are passed to the function as an array\"\"\"\n",
    "        alpha = param[0]\n",
    "        beta = param[1]\n",
    "        # calculate the energy\n",
    "        E = alpha/2+1/(8*alpha)+beta/2+1/(8*beta)\n",
    "        return E"
   ]
  },
  {
   "cell_type": "code",
   "execution_count": 19,
   "metadata": {},
   "outputs": [
    {
     "data": {
      "text/plain": [
       "<matplotlib.colorbar.Colorbar at 0x15606e6ac88>"
      ]
     },
     "execution_count": 19,
     "metadata": {},
     "output_type": "execute_result"
    },
    {
     "data": {
      "image/png": "[encoded data removed]",
      "text/plain": [
       "<Figure size 432x288 with 2 Axes>"
      ]
     },
     "metadata": {
      "needs_background": "light"
     },
     "output_type": "display_data"
    }
   ],
   "source": [
    "# plotting the 2D function\n",
    "alpha = np.linspace(0.1,1)\n",
    "beta = np.linspace(0.1,1)\n",
    "alpha2D, beta2D = np.meshgrid(alpha,beta)\n",
    "plt.imshow(QHO_2D_E([alpha2D,beta2D]),extent=(0.1,1,0.1,1),origin='lower')\n",
    "plt.title(\"Energy of the ground state solution\")\n",
    "plt.ylabel(r\"$\\alpha$\")\n",
    "plt.xlabel(r\"$\\beta$\")\n",
    "plt.colorbar()"
   ]
  },
  {
   "cell_type": "code",
   "execution_count": null,
   "metadata": {},
   "outputs": [],
   "source": [
    "# starting point for the optimize.minimize function\n",
    "x0 = np.array([0.1, 1]) \n",
    "# save the results to the opt_results object\n",
    "opt_result = optimize.minimize(QHO_2D_E, x0, method='CG', jac=QHO_2D_grad) "
   ]
  },
  {
   "cell_type": "code",
   "execution_count": null,
   "metadata": {},
   "outputs": [],
   "source": [
    "# print if the function was succesful\n",
    "print(opt_result.success)\n",
    "# where the minimum value is\n",
    "print(\"Minimum is at: \",opt_result.x)\n",
    "# what the minimum value is\n",
    "print(\"Value is: \",QHO_2D_E(opt_result.x))\n",
    "# how many iterations it took\n",
    "print(\"Iters: \",opt_result.nit)"
   ]
  },
  {
   "cell_type": "markdown",
   "metadata": {},
   "source": [
    "### Conclusions\n",
    "How to solve algebraic equations with numerical methods in python."
   ]
  },
  {
   "cell_type": "code",
   "execution_count": null,
   "metadata": {},
   "outputs": [],
   "source": []
  }
 ],
 "metadata": {
  "kernelspec": {
   "display_name": "Python 3",
   "language": "python",
   "name": "python3"
  },
  "language_info": {
   "codemirror_mode": {
    "name": "ipython",
    "version": 3
   },
   "file_extension": ".py",
   "mimetype": "text/x-python",
   "name": "python",
   "nbconvert_exporter": "python",
   "pygments_lexer": "ipython3",
   "version": "3.7.4"
  }
 },
 "nbformat": 4,
 "nbformat_minor": 2
}
