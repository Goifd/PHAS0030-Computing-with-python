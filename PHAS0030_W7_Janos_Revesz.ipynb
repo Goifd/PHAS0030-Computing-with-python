{
 "cells": [
  {
   "cell_type": "markdown",
   "metadata": {},
   "source": [
    "# Molecular dynamics simulation using the Lennard-Jones potential the velocity-Verlet integrator and periodic boundary conditions\n",
    "\n",
    "### Janos Revesz\n",
    "### 19111202\n",
    "\n",
    "The following notebook contains a simple simulation of how a system of atoms behave when the only force acting on them is from the Lennard-Jones potential. \n",
    "$$ V_{LJ}= 4 \\epsilon \\left[\\left(\\frac{\\sigma}{r}\\right)^{12}-\\left(\\frac{\\sigma}{r}\\right)^{6}\\right]$$\n",
    "\n",
    "The force acting on the particle is:\n",
    "$$F=-\\nabla V_{LJ}$$\n",
    "  \n",
    "$$F=-24\\epsilon \\bf{r} \\left[\\left(\\frac{\\sigma^{12}}{r^{13}}\\right)-\\left(\\frac{\\sigma^{6}}{r^{7}}\\right)\\right]$$\n",
    "\n",
    "We are simulating 64 Neon particles placed in a box evenly on a 4*4*4 grid at a temperature of T=50K. The simulation is ran for 10.000 steps where dt=1e-15. So the total length of the simulation is 1e-11. "
   ]
  },
  {
   "cell_type": "code",
   "execution_count": null,
   "metadata": {},
   "outputs": [],
   "source": [
    "# Appropriate imports\n",
    "%matplotlib inline\n",
    "import numpy as np\n",
    "import matplotlib.pyplot as plt\n",
    "from mpl_toolkits.mplot3d import Axes3D\n",
    "import time"
   ]
  },
  {
   "cell_type": "markdown",
   "metadata": {},
   "source": [
    "### 1. Set up the force function"
   ]
  },
  {
   "cell_type": "code",
   "execution_count": null,
   "metadata": {},
   "outputs": [],
   "source": [
    "# the function is from the in class solutions by Professor David Bowler\n",
    "def find_forces_LJ(pos,N,sigma,epsilon,boxlen):\n",
    "    \"\"\"Evaluate the potential energy and force acting on each particle, return the \n",
    "        forces in an array with N dimensions where each element is the sum of \n",
    "        the forces on the Nth particle. Also return the total potential energy of \n",
    "        the system.\n",
    "        \n",
    "        Input\n",
    "        \n",
    "        pos: N*3 dimensional array, contains the position of each particle\n",
    "        N: number of particles\n",
    "        sigma: the distance at which the particle-particle potential energy is 0\n",
    "        epsilon: characterises the depth of the potential well\n",
    "        \n",
    "        Output\n",
    "        \n",
    "        energy: the total potential energy of the system: calculated for every pair of \n",
    "        particles\n",
    "        force: N*3 dimensional array, each 3D subarray corresponds to the total \n",
    "        forces acting on the Nth particle\n",
    "        \"\"\"\n",
    "    force = np.zeros((N,3))\n",
    "    energy = 0.0\n",
    "    sigma6 = sigma**6\n",
    "    sigma12 = sigma6*sigma6\n",
    "    for i in range(N-1):\n",
    "        for j in range(i+1,N):\n",
    "            # vector between the ith and jth particle\n",
    "            dr = pos[j]-pos[i]\n",
    "            # esure that we interact with the closest particle through periodic boundaries\n",
    "            dr -= boxlen*np.rint(dr/boxlen)\n",
    "            dr2 = np.sum(dr*dr)\n",
    "            dr2i = 1.0/dr2\n",
    "            dr6i = dr2i*dr2i*dr2i\n",
    "            # force between the two particles\n",
    "            fij= 24.0*epsilon*dr*dr2i*dr6i*(sigma6 - 2.0*sigma12*dr6i)\n",
    "            force[i] += fij\n",
    "            force[j] -= fij\n",
    "            # potential energy between the two particles\n",
    "            energy += 4.0*epsilon*dr6i*(sigma12*dr6i - sigma6)\n",
    "    return energy, force"
   ]
  },
  {
   "cell_type": "markdown",
   "metadata": {},
   "source": [
    "### 2. Set up the lattice and the simulation parameters\n",
    "\n"
   ]
  },
  {
   "cell_type": "code",
   "execution_count": null,
   "metadata": {},
   "outputs": [],
   "source": [
    "# Initialisation\n",
    "Nsteps = 10000\n",
    "kB = 1.38e-23         # J/K\n",
    "sigma = 0.275e-9      # 0.275nm\n",
    "epsilon = 36*kB       # 36kT\n",
    "mass = 20.2*1.673e-27 # kg\n",
    "Ncells = 4\n",
    "boxlen = 1.1 * 2**(1/6) * sigma * Ncells \n",
    "Npart = 64\n",
    "rbox3 = np.zeros([Nsteps,Npart,3])\n",
    "vbox3 = np.zeros([Nsteps,Npart,3])\n",
    "count = 0\n",
    "for i in range(Ncells):\n",
    "    for j in range(Ncells):\n",
    "        for k in range(Ncells):\n",
    "            rbox3[0,count] = (boxlen/Ncells) * np.array([i, j, k])\n",
    "            count += 1"
   ]
  },
  {
   "cell_type": "code",
   "execution_count": null,
   "metadata": {},
   "outputs": [],
   "source": [
    "# Plot\n",
    "fig = plt.figure()\n",
    "ax = fig.add_subplot(111,projection='3d')\n",
    "ax.scatter(rbox3[0,:,0],rbox3[0,:,1],rbox3[0,:,2],c = 'orange')\n",
    "ax.set_xlabel('x')\n",
    "ax.set_ylabel('y')\n",
    "ax.set_zlabel('z')\n",
    "plt.show()"
   ]
  },
  {
   "cell_type": "markdown",
   "metadata": {},
   "source": [
    "### 3. Initialise velocities"
   ]
  },
  {
   "cell_type": "code",
   "execution_count": null,
   "metadata": {},
   "outputs": [],
   "source": [
    "# Initialise velocities\n",
    "initT  = 50          # K\n",
    "# The initial distribution can have an arbitrary scaling\n",
    "vbox3[0] = np.random.normal(size=(Npart,3))\n",
    "# These line rescales the velocities\n",
    "v_scale = np.sqrt(3*Npart*kB*initT/(mass*np.sum(vbox3[0]*vbox3[0])))\n",
    "vbox3[0] *= v_scale\n",
    "energy = np.zeros(Nsteps)\n",
    "temp = np.zeros(Nsteps)\n",
    "e, f = find_forces_LJ(rbox3[0],Npart,sigma,epsilon,boxlen)\n",
    "energy[0] = e\n",
    "temp[0] = mass*np.sum(vbox3[0]*vbox3[0])/(3*Npart*kB)\n",
    "acc = f/mass\n",
    "dt = 1e-15 # s \n",
    "MSD = np.zeros(Nsteps)"
   ]
  },
  {
   "cell_type": "markdown",
   "metadata": {},
   "source": [
    "### 4. Run simulation\n"
   ]
  },
  {
   "cell_type": "code",
   "execution_count": null,
   "metadata": {},
   "outputs": [],
   "source": [
    "for step in range(1,Nsteps):\n",
    "    rbox3[step] = rbox3[step-1] + vbox3[step-1]*dt + acc/2*dt**2\n",
    "    # Periodic boundaries\n",
    "    rbox3[step] = rbox3[step]%boxlen\n",
    "    # Verlet integrator\n",
    "    energy[step], f = find_forces_LJ(rbox3[step],Npart,sigma,epsilon,boxlen)\n",
    "    acc_next = f/mass\n",
    "    vbox3[step] = vbox3[step-1] + (acc_next + acc)/2*dt\n",
    "    temp[step] = mass*np.sum(vbox3[step]**2)/(3*Npart*kB)\n",
    "    acc = acc_next\n",
    "    # Calculate mean-squared displacement\n",
    "    MSD[step-1] = np.sum((rbox3[step]-rbox3[0])**2)\n",
    "MSD /= Npart"
   ]
  },
  {
   "cell_type": "code",
   "execution_count": null,
   "metadata": {},
   "outputs": [],
   "source": [
    "# Plotting the total energy, kinetic energy and potential energy\n",
    "# The code is from Prof. David Bowlers exercise solutions\n",
    "timeaxis = np.linspace(0,Nsteps*dt - dt,Nsteps)\n",
    "ke = 0.5*mass*np.sum(vbox3*vbox3,axis=(1,2))\n",
    "plt.plot(timeaxis,ke/(Npart*epsilon),label='Kinetic')\n",
    "plt.plot(timeaxis,energy/(Npart*epsilon),label='Potential')\n",
    "plt.plot(timeaxis,(ke+energy)/(Npart*epsilon),label='Total')\n",
    "plt.title(\"Energy per particle\")\n",
    "plt.xlabel(\"Time in s\")\n",
    "plt.ylabel(\"Energy/epsilon\")\n",
    "plt.legend()\n",
    "plt.show()"
   ]
  },
  {
   "cell_type": "markdown",
   "metadata": {},
   "source": [
    "The total energy of the system remains constant in time. The kinetic energy and potential energy oscillates around a constant value."
   ]
  },
  {
   "cell_type": "code",
   "execution_count": null,
   "metadata": {},
   "outputs": [],
   "source": [
    "time0 = dt*np.arange(1,Nsteps)\n",
    "plt.plot(time0,MSD[:-1])\n",
    "plt.title(\"Mean squared displacement of particles\")\n",
    "plt.xlabel(\"Time in s\")\n",
    "plt.ylabel(\"D(t)\")\n",
    "plt.show()"
   ]
  },
  {
   "cell_type": "code",
   "execution_count": null,
   "metadata": {},
   "outputs": [],
   "source": [
    "plt.plot(time0[2000:],MSD[2000:-1]/(6*time0[2000:]))\n",
    "plt.title(\"Mean squared displacement divided be 6t\")\n",
    "plt.xlabel(\"Time in s\")\n",
    "plt.ylabel(\"D(t)/(6t)\")\n",
    "plt.show()"
   ]
  },
  {
   "cell_type": "markdown",
   "metadata": {},
   "source": [
    "The plot seems to converge to a constant value around 1e-8."
   ]
  },
  {
   "cell_type": "markdown",
   "metadata": {},
   "source": [
    "### 5. Calculate the auto-correlation function"
   ]
  },
  {
   "cell_type": "code",
   "execution_count": null,
   "metadata": {},
   "outputs": [],
   "source": [
    "Int = np.zeros(Nsteps)\n",
    "for step in range(1,Nsteps):\n",
    "    Int[step] = Int[step-1] + np.sum(vbox3[step]*vbox3[0])*dt\n",
    "plt.plot(time0, 1/(3*Npart)*Int[1:], label=\"Int(t)\")\n",
    "plt.plot(time0[100:],MSD[100:-1]/(6*time0[100:])/6, label=\"D(t)/36t\")\n",
    "plt.title(\"Auto-correlation function\")\n",
    "plt.xlabel(\"Time in s\")\n",
    "plt.legend()\n",
    "plt.show()"
   ]
  },
  {
   "cell_type": "markdown",
   "metadata": {},
   "source": [
    "The two functions do not seem to converge to the same  point but they do get fairly close on the scale of 0.15e-7. "
   ]
  },
  {
   "cell_type": "markdown",
   "metadata": {},
   "source": [
    "## Conclusion\n",
    "Both the auto-correlation function and the mean squared displacement over 6t converge over time, but not to the same value, at least for 10000 timesteps. Calculating the Integral and mean squared displacement is negligable to the time it takes to apply the Verlet integrator.\n",
    "\n",
    "\n",
    "  Running the simulation for longer timesteps should lead to a linear increase in time while running the simulation with more particles should lead to a parabolic increase of time taken. This is because for n particles there are n(n-1)/2 pairs and the force has to be calculated each time for all of these pairs."
   ]
  },
  {
   "cell_type": "code",
   "execution_count": null,
   "metadata": {},
   "outputs": [],
   "source": []
  }
 ],
 "metadata": {
  "kernelspec": {
   "display_name": "Python 3",
   "language": "python",
   "name": "python3"
  },
  "language_info": {
   "codemirror_mode": {
    "name": "ipython",
    "version": 3
   },
   "file_extension": ".py",
   "mimetype": "text/x-python",
   "name": "python",
   "nbconvert_exporter": "python",
   "pygments_lexer": "ipython3",
   "version": "3.7.4"
  }
 },
 "nbformat": 4,
 "nbformat_minor": 2
}
