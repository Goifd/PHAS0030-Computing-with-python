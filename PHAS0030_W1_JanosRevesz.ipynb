{
 "cells": [
  {
   "cell_type": "markdown",
   "metadata": {},
   "source": [
    "# Electric potential and field of monopole, dipole and quadropole arrangements\n",
    "### Janos Revesz, SN: 19111202\n",
    "\n",
    "Using the formula V=kq/r for the potential and the formula E=kq/r^2 for electric field we calculate and plot these two values for monopole, dipole and quadropole arrangements. A monopole arrangement is just one positive charge, a dipole arrangement is a positive and a negative charge separated by distance d, and a quadropole arrangement is two positive and two negative charges located at the corners of a square, the same charges on the opposing sides of the same diagonal.\n",
    "Note that both the potential V and the electric field E are additive, so calculating each quantity for each charge and adding them up is sufficient."
   ]
  },
  {
   "cell_type": "code",
   "execution_count": null,
   "metadata": {},
   "outputs": [],
   "source": [
    "%matplotlib inline\n",
    "import numpy as np\n",
    "import matplotlib.pyplot as plt\n",
    "\n",
    "def potential(charge,x0,y0,x,y):\n",
    "    \"\"\"The function calculates the electric potential of a point charge \n",
    "    sitting at x0, y0 at point x,y\n",
    "    \n",
    "    Inputs:\n",
    "    charge  Value of charge\n",
    "    x0, y0  Location of charge (floats)\n",
    "    x, y    Position(s) for potential to be evaluated\n",
    "    \"\"\"\n",
    "    # Calculate the distance between the charges\n",
    "    r = np.sqrt((x-x0)**2+(y-y0)**2)\n",
    "    # Calculate potential using q/r\n",
    "    pot = charge/r\n",
    "    # return potential\n",
    "    return pot"
   ]
  },
  {
   "cell_type": "markdown",
   "metadata": {},
   "source": [
    "## Electrostatic potential for monopole, dipole and quadropole arrangements\n",
    "Using the potential function above we can calculate the electric potential of a monopole, dipole and quadropole arrangements. "
   ]
  },
  {
   "cell_type": "code",
   "execution_count": null,
   "metadata": {},
   "outputs": [],
   "source": [
    "# Define variables for charge(s) and positions\n",
    "q1 = 1\n",
    "x1 = np.zeros(25)\n",
    "y1 = np.zeros(25)\n",
    "# Create grid of x and y positions for plotting\n",
    "x = np.arange(-5,5,0.4)\n",
    "y = np.arange(-5,5,0.4)\n",
    "# Useing np.meshgrid to create a grid of x and y for plotting\n",
    "x2D,y2D = np.meshgrid(x,y)\n",
    "\n",
    "# Add the first charge for monopole\n",
    "pot1 = potential(q1,x1,y1,x2D,y2D) \n",
    "\n",
    "# Now add extra charge for dipole \n",
    "q2 = -1\n",
    "x2 = np.full(25,0)\n",
    "y2 = np.full(25,2.5)\n",
    "pot2 = potential(q2,x2,y2,x2D,y2D)\n",
    "dipole = pot1 + pot2\n",
    "\n",
    "# And third and fourth charge for the quadrupole \n",
    "q3 = -1\n",
    "x3 = np.full(25,2.5)\n",
    "y3 = np.full(25,0)\n",
    "pot3 = potential(q3,x3,y3,x2D,y2D)\n",
    "\n",
    "q4 = 1\n",
    "x4 = np.full(25,2.5)\n",
    "y4 = np.full(25,2.5)\n",
    "pot4 = potential(q4,x4,y4,x2D,y2D)\n",
    "quadropole = pot1 + pot2 + pot3 + pot4\n",
    "\n",
    "\n",
    "# Creating the plots to show the colormap of the potential\n",
    "fig1 = plt.figure(figsize=(14,6))\n",
    "# Create first subplot\n",
    "ax1 = fig1.add_subplot(1,3,1)\n",
    "ax1.set_xlabel(\"x\")\n",
    "ax1.set_ylabel(\"y\")\n",
    "ax1.set_title(\"Monopole potential\")\n",
    "im1 = ax1.imshow(pot1,origin='lower',extent = [-5,5,-5,5])\n",
    "fig1.colorbar(im1, ax=ax1, shrink=0.55)\n",
    "# Create second subplot\n",
    "ax2 = fig1.add_subplot(1,3,2)\n",
    "ax2.set_xlabel(\"x\")\n",
    "ax2.set_ylabel(\"y\")\n",
    "ax2.set_title(\"Dipole potential\")\n",
    "im2 = ax2.imshow(dipole,origin='lower',extent = [-5,5,-5,5])\n",
    "fig1.colorbar(im1, ax=ax2, shrink=0.55)\n",
    "# Creating third subplot\n",
    "ax3 = fig1.add_subplot(1,3,3)\n",
    "ax3.set_xlabel(\"x\")\n",
    "ax3.set_ylabel(\"y\")\n",
    "ax3.set_title(\"Quadropole potential\")\n",
    "im3 = ax3.imshow(quadropole,origin='lower',extent = [-5,5,-5,5])\n",
    "fig1.colorbar(im1, ax=ax3, shrink=0.55)"
   ]
  },
  {
   "cell_type": "markdown",
   "metadata": {},
   "source": [
    "## Electric field for monopole, dipole and quadropole arrangements\n",
    "Using the formula for the electric field we now calculate E for the different arrangements."
   ]
  },
  {
   "cell_type": "code",
   "execution_count": null,
   "metadata": {},
   "outputs": [],
   "source": [
    "def field(charge,x0,y0,x,y):\n",
    "    \"\"\"The function calculates the electric fild of a point charge \n",
    "    using the formula E=q/r^2\n",
    "    \n",
    "    Inputs:\n",
    "    charge  Value of charge\n",
    "    x0, y0  Location of charge (floats)\n",
    "    x, y    Position(s) for potential to be evaluated\n",
    "    \"\"\"\n",
    "    r = np.sqrt((x-x0)**2+(y-y0)**2)\n",
    "    \n",
    "    # Calculate field x component using qx/r^3\n",
    "    Ex = charge*x/(r**3)\n",
    "    # Calculate field y component using qy/r^3\n",
    "    Ey = charge*y/(r**3)\n",
    "    # return Ex, Ey\n",
    "    return Ex,Ey"
   ]
  },
  {
   "cell_type": "code",
   "execution_count": null,
   "metadata": {},
   "outputs": [],
   "source": [
    "\n",
    "# Calculate x and y components of electric field for one charge\n",
    "Ex1, Ey1 = field(q1,x1,y1,x2D,y2D)\n",
    "\n",
    "# Calculate x and y components of electric field for the second charge\n",
    "Ex2, Ey2 = field(q2,x2,y2,x2D,y2D)\n",
    "\n",
    "# Calculate x and y components of electric field for the third and fourth charge\n",
    "Ex3, Ey3 = field(q3,x3,y3,x2D,y2D)\n",
    "Ex4, Ey4 = field(q4,x4,y4,x2D,y2D)\n",
    "\n",
    "# Create figure\n",
    "fig2 = plt.figure(figsize=(14,6))\n",
    "# Adding the monopole electric field's plot\n",
    "az1 = fig2.add_subplot(1,3,1)\n",
    "az1.set_title(\"Monopole electric field\")\n",
    "az1.set_xlabel(\"x\")\n",
    "az1.set_ylabel(\"y\")\n",
    "im2 = az1.streamplot(x2D,y2D, Ex1, Ey1,density=3,start_points=None, maxlength=1)\n",
    "# Adding the dipole electric field's plot\n",
    "az2 = fig2.add_subplot(1,3,2)\n",
    "az2.set_title(\"Dipole electric field\")\n",
    "az2.set_xlabel(\"x\")\n",
    "az2.set_ylabel(\"y\")\n",
    "im2 = az2.streamplot(x2D,y2D, Ex1+Ex2, Ey1+Ey2,density=3,start_points=None, maxlength=1)\n",
    "# Adding the quadropole electric field's plot\n",
    "az3 = fig2.add_subplot(1,3,3)\n",
    "az3.set_title(\"Quadropole electric field\")\n",
    "az3.set_xlabel(\"x\")\n",
    "az3.set_ylabel(\"y\")\n",
    "im2 = az3.streamplot(x2D,y2D, Ex1+Ex2+Ex3+Ex4, Ey1+Ey2+Ey3+Ey4,density=3,maxlength=1)"
   ]
  },
  {
   "cell_type": "markdown",
   "metadata": {},
   "source": [
    "### Conclusions\n"
   ]
  },
  {
   "cell_type": "code",
   "execution_count": null,
   "metadata": {},
   "outputs": [],
   "source": []
  }
 ],
 "metadata": {
  "kernelspec": {
   "display_name": "Python 3",
   "language": "python",
   "name": "python3"
  },
  "language_info": {
   "codemirror_mode": {
    "name": "ipython",
    "version": 3
   },
   "file_extension": ".py",
   "mimetype": "text/x-python",
   "name": "python",
   "nbconvert_exporter": "python",
   "pygments_lexer": "ipython3",
   "version": "3.7.4"
  }
 },
 "nbformat": 4,
 "nbformat_minor": 2
}
